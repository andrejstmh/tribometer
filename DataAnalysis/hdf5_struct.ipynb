{
 "cells": [
  {
   "cell_type": "code",
   "execution_count": 37,
   "metadata": {},
   "outputs": [],
   "source": [
    "import json\n",
    "import numpy as np\n",
    "import pandas as pnd\n",
    "import datetime\n",
    "import h5py\n",
    "import os  \n"
   ]
  },
  {
   "cell_type": "code",
   "execution_count": 27,
   "metadata": {},
   "outputs": [],
   "source": [
    "class Experiment:\n",
    "    def __init__(self):\n",
    "        self.name = name\n",
    "        self.age = age\n",
    "        self.FileName = None\n",
    "        self.hdf5f = None\n",
    "        self.dset = None\n",
    "        self.StartTime= None\n",
    "        self.OneSecond=np.timedelta64(1, 's')\n",
    "        #time[s], Pressure[Pa], FrictionForce[N], RPM[rotation per minute], Acoustic[??] \n",
    "        self.RecordSize = 5\n",
    "        self.CurrentRecord = 0\n",
    "        self.ChunkRecord = 200\n",
    "        self.Recording = False\n",
    "        \n",
    "    def MakeFile(fileName):\n",
    "        if !os.path.exists(fileName):\n",
    "            self.FileName = fileName\n",
    "            self.MakeHdf5File()\n",
    "            \n",
    "    def MakeHdf5File():\n",
    "        self.hdf5f = h5py.File(FileName, 'w', libver='latest')\n",
    "        cft = pnd.read_csv(\"FrictionForceCalibration.csv\",sep=\" \")\n",
    "        cft = np.array(cft).astype(np.float32)\n",
    "        d = self.hdf5f.create_dataset(\"FrictionForceCalibration\",data=cft)\n",
    "        d.attrs['calibration'] = \"Friction force calibration curve [volt]=>[newton]\"\n",
    "\n",
    "        cft = pnd.read_csv(\"LoadCalibration.csv\",sep=\" \")\n",
    "        cft = np.array(cft).astype(np.float32)\n",
    "        d = self.hdf5f.create_dataset(\"LoadCalibration\",data=cft)\n",
    "        d.attrs['calibration'] = \"Force calibration curve [volt]=>[newton]\"\n",
    "        \n",
    "        dset = f.create_dataset(\"data\", chunks=(100,self.RecordSize), maxshape=(None,self.RecordSize), dtype=np.float32)#data=np.array([arr])        \n",
    "        \n",
    "    def RecordTime():\n",
    "        dt = np.datetime64(datetime.datetime.utcnow())\n",
    "        return (()dt-self.StartTime)/self.OneSecond).astype(np.float32)\n",
    "    \n",
    "    def StartRecording():\n",
    "        dt = datetime.datetime.utcnow()\n",
    "        dset.attrs['StartTime'] = str(dt)\n",
    "        self.StartTime = np.datetime64(dt)\n",
    "        self.CurrentRecord = 0;\n",
    "        self.ChunkRecord = 200\n",
    "        f.swmr_mode = True\n",
    "        self.Recording = True;\n",
    "        self.SetRecord()\n",
    "        self.RecordByTimerEvent()\n",
    "        \n",
    "    def StopRecording():\n",
    "        self.Recording = False;\n",
    "        dset.resize( (self.CurrentRecord, self.RecordSize) )\n",
    "        dset.flush()\n",
    "        dset.close()\n",
    "        \n",
    "    def SetRecord():\n",
    "        ts = this.RecordTime()\n",
    "        dsshape = dset.shape\n",
    "        if (self.ChunkRecord==self.CurrentRecord):\n",
    "            self.ChunkRecord += 200\n",
    "            dset.resize( (self.ChunkRecord, self.RecordSize) )\n",
    "        dset[self.CurrentRecord,:] = np.array([ts, 0.1, 0.1, 0.1, 0.1]);\n",
    "        dset.flush()\n",
    "        self.CurrentRecord += 1\n",
    "        \n",
    "    def RecordByTimerEvent():\n",
    "        print(\"Echo\")\n",
    "        if self.Recording:\n",
    "            self.SetRecord()\n",
    "            threading.Timer(5.0,self.RecordByTimerEvent).start()"
   ]
  },
  {
   "cell_type": "code",
   "execution_count": 59,
   "metadata": {},
   "outputs": [
    {
     "data": {
      "text/plain": [
       "1553626300000000.0"
      ]
     },
     "execution_count": 59,
     "metadata": {},
     "output_type": "execute_result"
    }
   ],
   "source": [
    "dt = datetime.datetime.utcnow()\n",
    "str(dt)\n",
    "np.datetime64(dt).astype(np.float32)"
   ]
  },
  {
   "cell_type": "code",
   "execution_count": 51,
   "metadata": {},
   "outputs": [],
   "source": [
    "f.close()"
   ]
  },
  {
   "cell_type": "code",
   "execution_count": 52,
   "metadata": {},
   "outputs": [],
   "source": [
    "FileName = \"experiment.01.01.2020.h5\"\n",
    "f = h5py.File(FileName, 'w', libver='latest')\n",
    "\n",
    "\n",
    "cft = pnd.read_csv(\"FrictionForceCalibration.csv\",sep=\" \")\n",
    "cft = np.array(cft).astype(np.float32)\n",
    "d = f.create_dataset(\"FrictionForceCalibration\",data=cft)\n",
    "d.attrs['calibration'] = \"Friction force calibration curve [volt]=>[newton]\"\n",
    "\n",
    "cft = pnd.read_csv(\"LoadCalibration.csv\",sep=\" \")\n",
    "cft = np.array(cft).astype(np.float32)\n",
    "d = f.create_dataset(\"LoadCalibration\",data=cft)\n",
    "d.attrs['calibration'] = \"Force calibration curve [volt]=>[newton]\"\n",
    "\n",
    "\n",
    "\n",
    "arr = np.array([1,2,3,4])\n",
    "# \n",
    "dset = f.create_dataset(\"data\", chunks=(1,4), maxshape=(None,4), data=np.array([arr]),dtype=np.float32)\n",
    "dt = datetime.datetime.utcnow()\n",
    "StartTime = np.datetime64(dt)\n",
    "dset.attrs['StartTime'] = str(dt)\n",
    "\n",
    "f.swmr_mode = True\n",
    "# Now it is safe for the reader to open the swmr.h5 file\n",
    "for i in range(1,5):\n",
    "    new_shape = ((i+1) ,4 )\n",
    "    dset.resize( new_shape )\n",
    "    dset[i,:] = arr\n",
    "    dset.flush()\n",
    "    # Notify the reader process that new data has been written"
   ]
  },
  {
   "cell_type": "code",
   "execution_count": 57,
   "metadata": {},
   "outputs": [
    {
     "name": "stdout",
     "output_type": "stream",
     "text": [
      "(10, 4)\n"
     ]
    }
   ],
   "source": [
    "f1 = h5py.File(FileName, 'r', libver='latest', swmr=True)\n",
    "dset = f1[\"data\"]\n",
    "dset.id.refresh()\n",
    "shape = dset.shape\n",
    "print( shape )"
   ]
  },
  {
   "cell_type": "code",
   "execution_count": 56,
   "metadata": {},
   "outputs": [],
   "source": [
    "for i in range(5,10):\n",
    "    new_shape = ((i+1) ,4 )\n",
    "    dset.resize( new_shape )\n",
    "    dset[i,:] = arr\n",
    "    dset.flush()"
   ]
  },
  {
   "cell_type": "code",
   "execution_count": 58,
   "metadata": {},
   "outputs": [],
   "source": [
    "f.close()"
   ]
  },
  {
   "cell_type": "code",
   "execution_count": null,
   "metadata": {},
   "outputs": [],
   "source": []
  }
 ],
 "metadata": {
  "kernelspec": {
   "display_name": "Python 3",
   "language": "python",
   "name": "python3"
  },
  "language_info": {
   "codemirror_mode": {
    "name": "ipython",
    "version": 3
   },
   "file_extension": ".py",
   "mimetype": "text/x-python",
   "name": "python",
   "nbconvert_exporter": "python",
   "pygments_lexer": "ipython3",
   "version": "3.6.8"
  }
 },
 "nbformat": 4,
 "nbformat_minor": 2
}
